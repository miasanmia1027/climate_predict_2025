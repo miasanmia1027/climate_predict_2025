{
 "cells": [
  {
   "cell_type": "code",
   "execution_count": null,
   "metadata": {},
   "outputs": [
    {
     "name": "stderr",
     "output_type": "stream",
     "text": [
      "C:\\Users\\USER\\AppData\\Local\\Temp\\ipykernel_11404\\2419775512.py:2: DtypeWarning: Columns (27) have mixed types. Specify dtype option on import or set low_memory=False.\n",
      "  climate_raw_data = pd.read_csv(\"data/OBS_ASOS_TIM_20250515140520.csv\",encoding='euc-kr')\n"
     ]
    }
   ],
   "source": [
    "import pandas as pd\n",
    "climate_raw_data = pd.read_csv(\"data/2005-2006.csv.csv\",encoding='euc-kr')\n",
    "climate_raw_data.to_csv(\"data/2005-2006.csv.csv\", encoding='utf-8')"
   ]
  },
  {
   "cell_type": "code",
   "execution_count": null,
   "metadata": {},
   "outputs": [],
   "source": [
    "climate_raw_data = pd.read_csv(\"data/2005-2006.csv\",encoding='euc-kr')\n",
    "climate_raw_data.to_csv(\"data/2005-2006.csv\", encoding='utf-8')"
   ]
  },
  {
   "cell_type": "code",
   "execution_count": 2,
   "metadata": {},
   "outputs": [],
   "source": [
    "import pandas as pd"
   ]
  },
  {
   "cell_type": "code",
   "execution_count": 3,
   "metadata": {},
   "outputs": [],
   "source": [
    "climate_data = pd.read_csv(f\"data/동두천/20240101-20250101.csv\",encoding='utf-8')"
   ]
  },
  {
   "cell_type": "code",
   "execution_count": 4,
   "metadata": {},
   "outputs": [
    {
     "data": {
      "text/plain": [
       "Index(['Unnamed: 0', '지점', '지점명', '일시', '기온(°C)', '강수량(mm)', '강수량 QC플래그',\n",
       "       '풍속(m/s)', '풍속 QC플래그', '풍향(16방위)', '풍향 QC플래그', '습도(%)', '증기압(hPa)',\n",
       "       '이슬점온도(°C)', '현지기압(hPa)', '해면기압(hPa)', '일조(hr)', '일조 QC플래그',\n",
       "       '일사(MJ/m2)', '일사 QC플래그', '적설(cm)', '3시간신적설(cm)', '전운량(10분위)',\n",
       "       '중하층운량(10분위)', '최저운고(100m )', '시정(10m)', '지면온도(°C)'],\n",
       "      dtype='object')"
      ]
     },
     "execution_count": 4,
     "metadata": {},
     "output_type": "execute_result"
    }
   ],
   "source": [
    "climate_data.columns # 나중을위해 일단 만든것"
   ]
  },
  {
   "cell_type": "code",
   "execution_count": null,
   "metadata": {},
   "outputs": [],
   "source": [
    "# 데이터는 1시간마다 측정이 되어 있다\n",
    "\"\"\"\n",
    "'일시', '기온(°C)', '강수량(mm)', '강수량 QC플래그',\n",
    "       '풍속(m/s)', '풍속 QC플래그', '풍향(16방위)', '풍향 QC플래그', '습도(%)', '증기압(hPa)',\n",
    "       '이슬점온도(°C)', '현지기압(hPa)', '해면기압(hPa)', '일조(hr)', '일조 QC플래그',\n",
    "       '일사(MJ/m2)', '일사 QC플래그', '적설(cm)', '3시간신적설(cm)', '전운량(10분위)',\n",
    "       '중하층운량(10분위)', '최저운고(100m )', '시정(10m)', '지면온도(°C)'],\n",
    "\"\"\""
   ]
  }
 ],
 "metadata": {
  "kernelspec": {
   "display_name": "ahn",
   "language": "python",
   "name": "python3"
  },
  "language_info": {
   "codemirror_mode": {
    "name": "ipython",
    "version": 3
   },
   "file_extension": ".py",
   "mimetype": "text/x-python",
   "name": "python",
   "nbconvert_exporter": "python",
   "pygments_lexer": "ipython3",
   "version": "3.13.1"
  }
 },
 "nbformat": 4,
 "nbformat_minor": 2
}
